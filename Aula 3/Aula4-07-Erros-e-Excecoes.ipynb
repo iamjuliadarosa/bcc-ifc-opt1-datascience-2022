{
 "cells": [
  {
   "cell_type": "markdown",
   "metadata": {},
   "source": [
    "## Erros e Exceções"
   ]
  },
  {
   "cell_type": "code",
   "execution_count": null,
   "metadata": {
    "scrolled": true
   },
   "outputs": [],
   "source": [
    "# Erro\n",
    "print('Olá)"
   ]
  },
  {
   "cell_type": "code",
   "execution_count": null,
   "metadata": {},
   "outputs": [],
   "source": [
    "# Criando uma função\n",
    "def numDiv (num1, num2):\n",
    "    resultado = num1 / num2\n",
    "    print(resultado)"
   ]
  },
  {
   "cell_type": "code",
   "execution_count": null,
   "metadata": {},
   "outputs": [],
   "source": [
    "# Execução não gera erro\n",
    "numDiv(4,2)"
   ]
  },
  {
   "cell_type": "code",
   "execution_count": null,
   "metadata": {},
   "outputs": [],
   "source": [
    "# Execução gerando erro\n",
    "numDiv(4,0)"
   ]
  },
  {
   "cell_type": "markdown",
   "metadata": {},
   "source": [
    "## Try, Except, Finally"
   ]
  },
  {
   "cell_type": "code",
   "execution_count": null,
   "metadata": {},
   "outputs": [],
   "source": [
    "8 + 's'"
   ]
  },
  {
   "cell_type": "code",
   "execution_count": null,
   "metadata": {},
   "outputs": [],
   "source": [
    "# Utilizando try e except\n",
    "try:\n",
    "    8 + 's'\n",
    "except TypeError:\n",
    "    print(\"Operação não permitida\")"
   ]
  },
  {
   "cell_type": "code",
   "execution_count": null,
   "metadata": {},
   "outputs": [],
   "source": [
    "# Utilizando try, except e else\n",
    "try:\n",
    "    f = open('arquivos/testandoerros.txt','w')\n",
    "    f.write('Gravando no arquivo')\n",
    "except IOError:\n",
    "    print (\"Erro: arquivo não encontrado ou não pode ser salvo.\")\n",
    "else:\n",
    "    print (\"Conteúdo gravado com sucesso!\")\n",
    "    f.close()"
   ]
  },
  {
   "cell_type": "code",
   "execution_count": null,
   "metadata": {},
   "outputs": [],
   "source": [
    "# Utilizando try, except e else\n",
    "try:\n",
    "    f = open('arquivos/testandoerros','r')\n",
    "except IOError:\n",
    "    print (\"Erro: arquivo não encontrado ou não pode ser lido.\")\n",
    "else:\n",
    "    print (\"Conteúdo gravado com sucesso!\")\n",
    "    f.close()"
   ]
  },
  {
   "cell_type": "code",
   "execution_count": null,
   "metadata": {},
   "outputs": [],
   "source": [
    "try:\n",
    "    f = open('arquivos/testandoerros.txt','w')\n",
    "    f.write('Gravando no arquivo')\n",
    "except IOError:\n",
    "    print (\"Erro: arquivo não encontrado ou não pode ser salvo.\")\n",
    "else:\n",
    "    print (\"Conteúdo gravado com sucesso!\")\n",
    "    f.close()\n",
    "finally:\n",
    "    print (\"Comandos no bloco finally são sempre executados!\")"
   ]
  },
  {
   "cell_type": "code",
   "execution_count": null,
   "metadata": {},
   "outputs": [],
   "source": [
    "def askint():\n",
    "        try:\n",
    "            val = int(input(\"Digite um número: \"))\n",
    "        except:\n",
    "            print (\"Você não digitou um número!\")\n",
    "            val = int(input(\"Tente novamente. Digite um número: \"))\n",
    "        finally:\n",
    "            print (\"Obrigado!\")\n",
    "        print (val) "
   ]
  },
  {
   "cell_type": "code",
   "execution_count": null,
   "metadata": {},
   "outputs": [],
   "source": [
    "askint()"
   ]
  },
  {
   "cell_type": "code",
   "execution_count": null,
   "metadata": {},
   "outputs": [],
   "source": [
    "def askint():\n",
    "    while True:\n",
    "        try:\n",
    "            val = int(input(\"Digite um número: \"))\n",
    "        except:\n",
    "            print (\"Você não digitou um número!\")\n",
    "            continue\n",
    "        else:\n",
    "            print (\"Obrigado por digitar um número!\")\n",
    "            break\n",
    "        finally:\n",
    "            print(\"Fim da execução!\")\n",
    "        print (val) "
   ]
  },
  {
   "cell_type": "code",
   "execution_count": null,
   "metadata": {},
   "outputs": [],
   "source": [
    "askint()"
   ]
  },
  {
   "cell_type": "code",
   "execution_count": null,
   "metadata": {},
   "outputs": [],
   "source": [
    "tuple = (1,2,3,4,5)\n",
    "try:\n",
    "    tuple.append(6)\n",
    "    for each in tuple:\n",
    "        print(each)\n",
    "except AttributeError as e:\n",
    "    print('Erro: ', e)\n",
    "except IOError as e:\n",
    "    print('Erro de I/O:', e)"
   ]
  },
  {
   "cell_type": "markdown",
   "metadata": {},
   "source": [
    "# Fim"
   ]
  }
 ],
 "metadata": {
  "kernelspec": {
   "display_name": "Python 3",
   "language": "python",
   "name": "python3"
  },
  "language_info": {
   "codemirror_mode": {
    "name": "ipython",
    "version": 3
   },
   "file_extension": ".py",
   "mimetype": "text/x-python",
   "name": "python",
   "nbconvert_exporter": "python",
   "pygments_lexer": "ipython3",
   "version": "3.8.8"
  }
 },
 "nbformat": 4,
 "nbformat_minor": 1
}
