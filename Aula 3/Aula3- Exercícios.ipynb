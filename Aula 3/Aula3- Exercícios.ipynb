{
 "cells": [
  {
   "cell_type": "code",
   "execution_count": null,
   "metadata": {},
   "outputs": [],
   "source": [
    "#1 - No intervalo de 0 a 1000 salve os números pares no arquivo pares.txt e os ímpares no arquivo impares.txt"
   ]
  },
  {
   "cell_type": "code",
   "execution_count": null,
   "metadata": {},
   "outputs": [],
   "source": [
    "#2-Usando o arquivo texto notas_estudantes escreva um programa que imprime o nome dos alunos que têm mais de seis notas."
   ]
  },
  {
   "cell_type": "code",
   "execution_count": null,
   "metadata": {},
   "outputs": [],
   "source": [
    "#3- Usando o arquivo texto notas_estudantes escreva um programa que calcula a média das notas de cada estudante\n",
    "#e imprime o nome e a média de cada estudante."
   ]
  },
  {
   "cell_type": "code",
   "execution_count": null,
   "metadata": {},
   "outputs": [],
   "source": [
    "#4- Usando o arquivo texto notas_estudantes escreva um programa que calcula a nota mínima e máxima de cada estudante \n",
    "#e imprima o nome de cada aluno junto com a sua nota máxima e mínima"
   ]
  }
 ],
 "metadata": {
  "kernelspec": {
   "display_name": "Python 3",
   "language": "python",
   "name": "python3"
  },
  "language_info": {
   "codemirror_mode": {
    "name": "ipython",
    "version": 3
   },
   "file_extension": ".py",
   "mimetype": "text/x-python",
   "name": "python",
   "nbconvert_exporter": "python",
   "pygments_lexer": "ipython3",
   "version": "3.7.1"
  }
 },
 "nbformat": 4,
 "nbformat_minor": 2
}
